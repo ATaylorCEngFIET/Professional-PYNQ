{
 "cells": [
  {
   "cell_type": "markdown",
   "metadata": {},
   "source": [
    "# **<p style=\"color:red;\">PYNQ FFT Exercise**"
   ]
  },
  {
   "cell_type": "markdown",
   "metadata": {},
   "source": [
    "![start](../images/prologue.png)"
   ]
  },
  {
   "cell_type": "markdown",
   "metadata": {},
   "source": [
    "---"
   ]
  },
  {
   "cell_type": "markdown",
   "metadata": {},
   "source": [
    "# *How to build a hardware FFT accelerator*"
   ]
  },
  {
   "cell_type": "markdown",
   "metadata": {},
   "source": [
    "### Execute all of the following cells, fill in empty cells if instructed."
   ]
  },
  {
   "cell_type": "markdown",
   "metadata": {},
   "source": [
    "##  Determine what you would like to compute"
   ]
  },
  {
   "cell_type": "markdown",
   "metadata": {},
   "source": [
    "In this case it has been determined we would like as fast as possible float precision FFT computation up to length 32768 "
   ]
  },
  {
   "cell_type": "markdown",
   "metadata": {},
   "source": [
    "## Benchmark the Python software"
   ]
  },
  {
   "cell_type": "markdown",
   "metadata": {},
   "source": [
    "Import libraries and modules:"
   ]
  },
  {
   "cell_type": "code",
   "execution_count": 1,
   "metadata": {},
   "outputs": [],
   "source": [
    "import numpy as np\n",
    "import random\n",
    "from pynq import Overlay\n",
    "import axitimer\n",
    "max_fft_N = 12 # Logic and DMA max for simple mode on ARM32 is 4096 complex 32-bit elements"
   ]
  },
  {
   "cell_type": "markdown",
   "metadata": {},
   "source": [
    "Load the FFT Overlay and allow axitimer to bind to it:"
   ]
  },
  {
   "cell_type": "code",
   "execution_count": 2,
   "metadata": {},
   "outputs": [
    {
     "data": {
      "application/javascript": [
       "\n",
       "try {\n",
       "require(['notebook/js/codecell'], function(codecell) {\n",
       "  codecell.CodeCell.options_default.highlight_modes[\n",
       "      'magic_text/x-csrc'] = {'reg':[/^%%microblaze/]};\n",
       "  Jupyter.notebook.events.one('kernel_ready.Kernel', function(){\n",
       "      Jupyter.notebook.get_cells().map(function(cell){\n",
       "          if (cell.cell_type == 'code'){ cell.auto_highlight(); } }) ;\n",
       "  });\n",
       "});\n",
       "} catch (e) {};\n"
      ]
     },
     "metadata": {},
     "output_type": "display_data"
    },
    {
     "data": {
      "application/javascript": [
       "\n",
       "try {\n",
       "require(['notebook/js/codecell'], function(codecell) {\n",
       "  codecell.CodeCell.options_default.highlight_modes[\n",
       "      'magic_text/x-csrc'] = {'reg':[/^%%pybind11/]};\n",
       "  Jupyter.notebook.events.one('kernel_ready.Kernel', function(){\n",
       "      Jupyter.notebook.get_cells().map(function(cell){\n",
       "          if (cell.cell_type == 'code'){ cell.auto_highlight(); } }) ;\n",
       "  });\n",
       "});\n",
       "} catch (e) {};\n"
      ]
     },
     "metadata": {},
     "output_type": "display_data"
    }
   ],
   "source": [
    "ol = Overlay('/home/xilinx/jupyter_notebooks/dsp_class/fft.bit')"
   ]
  },
  {
   "cell_type": "code",
   "execution_count": 4,
   "metadata": {},
   "outputs": [],
   "source": [
    "ol?"
   ]
  },
  {
   "cell_type": "markdown",
   "metadata": {},
   "source": [
    "Use Numpy 'complex64' type arrays and establish some test bench data to use when comparing results and performance."
   ]
  },
  {
   "cell_type": "code",
   "execution_count": 5,
   "metadata": {},
   "outputs": [
    {
     "name": "stdout",
     "output_type": "stream",
     "text": [
      "[size, Time in mS]\n",
      "[[64, 0.08213814138141379], [128, 0.08789383893838938], [256, 0.09604328043280429], [512, 0.11811690116901169], [1024, 0.16338735387353887], [2048, 0.2749677496774967], [4096, 0.5194754747547476]]\n"
     ]
    }
   ],
   "source": [
    "tmr = ol.axi_timer_0\n",
    "tmr.start_tmr()\n",
    "sw_fft_times = []\n",
    "for i in range(6,max_fft_N+1):\n",
    "    swt = 0\n",
    "    size = 2 ** i\n",
    "    din = np.empty(shape=(size,), dtype='complex64')\n",
    "    din.imag[0:size] = np.random.rand(size,)\n",
    "    din.real[0:size] = np.random.rand(size,)\n",
    "    din[20] = 1.0;\n",
    "    for n in range(0,100):\n",
    "        start = tmr.read_count()\n",
    "        dout_sw = np.fft.fftn(din)\n",
    "        end = tmr.read_count()\n",
    "        swt += tmr.time_it(start,end)\n",
    "    sw_fft_times.append([size, 1000*swt/(n+1)])\n",
    "print('[size, Time in mS]')\n",
    "print(sw_fft_times)"
   ]
  },
  {
   "cell_type": "markdown",
   "metadata": {},
   "source": [
    "## Create some Python to help with bitpacking the hardware FFT control words"
   ]
  },
  {
   "cell_type": "code",
   "execution_count": 6,
   "metadata": {},
   "outputs": [],
   "source": [
    "def bits_to_bytes(bit_str, base=2, byteorder='big') :\n",
    "    nbytes = int(len(bit_str) * .125 + .9) if base == 2 else int(len(bit_str) * .5 + .9) if base == 16 else 0  \n",
    "    return int(bit_str, base=base).to_bytes(nbytes, byteorder=byteorder)\n",
    "\n",
    "def bytes_to_uint32s(byte_s) :\n",
    "    assert type(byte_s) == bytes, RuntimeError\n",
    "    return [int.from_bytes(byte_s[i:i+4], byteorder='big') for i in range(0,len(byte_s),4)]\n",
    "\n",
    "def create_config_tdata(N, fwd_inv=True):\n",
    "    assert N > 2 and N < 13, RuntimeError\n",
    "    N = int(N)\n",
    "    NFFT = N.to_bytes(1, byteorder='big')            # Must be padded to byte\n",
    "    CP_LEN = ''                                      # padded but unused for this FFT config\n",
    "    FWD_INV = '0b1' if fwd_inv == True else '0b0'    # No padding\n",
    "    SCALE_SCH = ''                                   # padded but unused for this FFT config\n",
    "    return bytes_to_uint32s(bits_to_bytes(FWD_INV) + NFFT) # Final result needs padded to 8 bits worth and converted into 32-bit words for AXI"
   ]
  },
  {
   "cell_type": "markdown",
   "metadata": {},
   "source": [
    "## Configure the hardware FFT"
   ]
  },
  {
   "cell_type": "code",
   "execution_count": 7,
   "metadata": {},
   "outputs": [],
   "source": [
    "# The constraints say it should work up to about 150MHz\n",
    "from pynq import Clocks"
   ]
  },
  {
   "cell_type": "code",
   "execution_count": 8,
   "metadata": {},
   "outputs": [],
   "source": [
    "from axififo import FifoStreamDriver\n",
    "ol = Overlay('/home/xilinx/jupyter_notebooks/dsp_class/fft.bit', download=False)\n",
    "cfg_data = create_config_tdata(max_fft_N, True)\n",
    "fft_cfg = ol.axi_fifo_mm_s_0\n",
    "fft_cfg.send_tx_pkt(cfg_data)"
   ]
  },
  {
   "cell_type": "markdown",
   "metadata": {},
   "source": [
    "##  Send and receive data to the hardware FFT using DMA"
   ]
  },
  {
   "cell_type": "markdown",
   "metadata": {},
   "source": [
    "\n",
    "The FFT has an AXI streaming interface connected to a dual channel DMA IP Block (see diagram above).  The FFT block consumes a length setting worth of 'complex64'\n",
    "1. import axidma.py to use the module's 'SimpleDmaDriver' class to write and read data to the hardware FFT accelerator\n",
    "1. reload the Overlay to bind 'SimpleDmaDriver'\n",
    "1. optionally create alias for the Overlay's 'SimpleDmaDriver'\n",
    "1. establish proper SimpleDmaDriver.txbuf size and data type by using SimpleDmaDriver.resize_bufs(4096, data_type='complex64')\n",
    "1. copy the data into the SimpleDmaDriver.txbuf[0:size] member, you could use 'din' from prior cells or create new values directly into txbuf\n",
    "1. send data with SimpleDmaDriver.send_dma()\n",
    "1. receive data with SimpleDmaDriver.rcv_dma()\n",
    "1. the data from the FFT output will be received into SimpleDmaDriver.rxbuf\n",
    "1. display the values of rxbuf\n",
    "1. compare the execution timing results with Numpy's FFT (use the same input data for Numpy as you input to the hardware FFT) "
   ]
  },
  {
   "cell_type": "code",
   "execution_count": 10,
   "metadata": {},
   "outputs": [
    {
     "data": {
      "text/plain": [
       "PynqBuffer([2.0259880e+03+2.0582676e+03j, 1.1841644e+01+7.6939392e-01j,\n",
       "            5.5990936e+01-3.8468933e-01j, ...,\n",
       "            7.8720093e-01+2.1096817e+01j, 3.9272827e+01+9.3791199e-01j,\n",
       "            1.7098831e+01-4.7686768e+00j], dtype=complex64)"
      ]
     },
     "execution_count": 10,
     "metadata": {},
     "output_type": "execute_result"
    }
   ],
   "source": [
    "import axidma\n",
    "ol = Overlay('/home/xilinx/jupyter_notebooks/dsp_class/fft.bit', download=False)\n",
    "fft = ol.axi_dma\n",
    "fft.resize_bufs(shape=[size,], dtype='complex64')\n",
    "fft.txbuf[0:size] = din\n",
    "fft.send_dma()\n",
    "fft.rcv_dma()\n",
    "fft.rxbuf"
   ]
  },
  {
   "cell_type": "code",
   "execution_count": 11,
   "metadata": {},
   "outputs": [
    {
     "data": {
      "text/plain": [
       "array([2.02598811e+03+2.05826760e+03j, 1.18416987e+01+7.69440205e-01j,\n",
       "       5.59909976e+01-3.84640011e-01j, ...,\n",
       "       7.87238189e-01+2.10968718e+01j, 3.92728608e+01+9.37974359e-01j,\n",
       "       1.70988807e+01-4.76861583e+00j])"
      ]
     },
     "execution_count": 11,
     "metadata": {},
     "output_type": "execute_result"
    }
   ],
   "source": [
    "np.fft.fftn(din)"
   ]
  },
  {
   "cell_type": "code",
   "execution_count": 12,
   "metadata": {},
   "outputs": [
    {
     "name": "stdout",
     "output_type": "stream",
     "text": [
      "mean squared error: 1.6442788507485923e-10\n"
     ]
    },
    {
     "data": {
      "image/png": "[encoded data removed]",
      "text/plain": [
       "<matplotlib.figure.Figure at 0xafba6d50>"
      ]
     },
     "metadata": {},
     "output_type": "display_data"
    }
   ],
   "source": [
    "%matplotlib inline\n",
    "import matplotlib.pyplot as plt\n",
    "hw_fft_data = np.abs(np.array(fft.rxbuf))\n",
    "sw_fft_data = np.abs(np.array(np.fft.fftn(din)))\n",
    "err_squared = (hw_fft_data-sw_fft_data)**2\n",
    "f, ax = plt.subplots()\n",
    "ax.plot(err_squared)\n",
    "ax.set_xlabel('Samples')\n",
    "ax.set_ylabel('MSE');\n",
    "print('mean squared error: ' + str(err_squared.mean()))"
   ]
  },
  {
   "cell_type": "markdown",
   "metadata": {},
   "source": [
    "### Do the results match exactly or are they just close?"
   ]
  },
  {
   "cell_type": "raw",
   "metadata": {},
   "source": [
    "Ans: They are close, software internal precision is different vs hardware, different algorithms as well.  Which one is right?  Both are off a little would need a golden reference to know."
   ]
  },
  {
   "cell_type": "markdown",
   "metadata": {},
   "source": [
    "## Benchmarking: copy DMA driver FFT vs. Numpy FFT"
   ]
  },
  {
   "cell_type": "markdown",
   "metadata": {},
   "source": [
    "The custom DMA driver in axidma.py has 2 methods to read and write data with DMA. The 1st method 'send_cpy()' and 'rcv_cpy()' is convenient, just pass in a list of data and the method handles all the details including the allocate type buffers.  Along the way it makes a copy of the data however.  The 2nd method 'send_dma()' and 'rcv_dma()' requires pre-sizing built in 'rxbuf' and 'txbuf' buffers and loading the data into those buffers. This eliminates a copy each time and type allocate buffer allocation and free.\n",
    "\n",
    "1. use the example from the beginning but enhance it to use both the hardware and software versions of the FFT\n",
    "1. use the SimpleDmaDriver.send_cpy() and .rcv_cpy() methods\n",
    "1. enhance it to use the AXI hardware timer for measurement\n",
    "    1. use the timer to measure execution times of both the HW and SW FFT\n",
    "1. collect the metrics for 100 runs of both SW and HW and for each length from: 64 - 4096 in steps of powers of 2\n",
    "1. compare the execution times between the convenient copy DMA methods here vs the Numpy FFT"
   ]
  },
  {
   "cell_type": "code",
   "execution_count": 13,
   "metadata": {},
   "outputs": [
    {
     "name": "stdout",
     "output_type": "stream",
     "text": [
      "Times are in mS\n",
      "[[64, 0.5449745694550256], [128, 0.5637232994362766], [256, 0.6029410793970591], [512, 0.718957819281042], [1024, 0.9462922690537079], [2048, 1.4985381585014614], [4096, 2.60413033739587]]\n",
      "[[64, 2.8500901071499105], [128, 2.8800330971199672], [256, 2.8963749471036264], [512, 2.9619415670380578], [1024, 3.167523796832477], [2048, 3.52032946647967], [4096, 4.242196345757804]]\n",
      "Acceleration factor:\n",
      "[[64, 0.1912131016797922], [128, 0.19573500735113075], [256, 0.20817093449865665], [512, 0.24273193883429645], [1024, 0.2987482745985997], [2048, 0.42568122466105424], [4096, 0.6138636982232094]]\n"
     ]
    }
   ],
   "source": [
    "sw_fft_times = []\n",
    "hw_fft_times = []\n",
    "tmr.start_tmr()\n",
    "for i in range(6,max_fft_N+1):\n",
    "    hwt = swt = 0\n",
    "    size = 2 ** i\n",
    "    din = np.empty(shape=(size,), dtype=np.complex64)\n",
    "    din.imag[0:size] = np.random.rand(size,)\n",
    "    din.real[0:size] = np.random.rand(size,)\n",
    "    fft_cfg.send_tx_pkt(create_config_tdata(i, 1))\n",
    "    for n in range(0,100):\n",
    "        start = tmr.read_count()\n",
    "        dout_sw = np.fft.fftn(din)\n",
    "        end = tmr.read_count()\n",
    "        swt += tmr.time_it(start,end)\n",
    "        start = tmr.read_count()\n",
    "        fft.send_cpy(din)\n",
    "        dout = fft.rcv_cpy(size, np.complex64)\n",
    "        end = tmr.read_count()\n",
    "        hwt += tmr.time_it(start,end)\n",
    "    sw_fft_times.append([size, 1000*swt/(n+1)])\n",
    "    hw_fft_times.append([size, 1000*hwt/(n+1)])\n",
    "print('Times are in mS')\n",
    "print(sw_fft_times)\n",
    "print(hw_fft_times)\n",
    "print('Acceleration factor:')\n",
    "a = []\n",
    "for i in range(0,len(hw_fft_times)):\n",
    "    a.append([sw_fft_times[i][0], sw_fft_times[i][1]/hw_fft_times[i][1]])\n",
    "print(a)"
   ]
  },
  {
   "cell_type": "code",
   "execution_count": 14,
   "metadata": {},
   "outputs": [
    {
     "data": {
      "image/png": "[encoded data removed]",
      "text/plain": [
       "<matplotlib.figure.Figure at 0xae1cd4b0>"
      ]
     },
     "metadata": {},
     "output_type": "display_data"
    }
   ],
   "source": [
    "%matplotlib inline\n",
    "import matplotlib.pyplot as plt\n",
    "f, ax = plt.subplots()\n",
    "ax.plot([i[0] for i in sw_fft_times], [i[0]/(i[1] * .001) / 1e6 for i in sw_fft_times], 'r-o', label='numpy FFT')\n",
    "ax.plot([i[0] for i in hw_fft_times], [i[0]/(i[1] * .001) / 1e6 for i in hw_fft_times], 'b-o', label='Python with FPGA FFT')\n",
    "ax.set_xlabel('Complex samples length')\n",
    "ax.set_ylabel('Complex Mega-samples / per second')\n",
    "ax.legend()\n",
    "ax.set_title('Python with Xilinx PYNQ FPGA FFT Performance');"
   ]
  },
  {
   "cell_type": "markdown",
   "metadata": {},
   "source": [
    "## Benchmark the system: pre-buf DMA FFT vs Numpy FFT"
   ]
  },
  {
   "cell_type": "markdown",
   "metadata": {},
   "source": [
    "\n",
    "1. use the example from the beginning but enhance it to use both the hardware and software versions of the FFT\n",
    "1. this time use the SimpleDmaDriver.send_dma() and .rcv_dma() methods to transfer the data, resize the buffers properly before using those methods\n",
    "1. enhance the program to use the AXI hardware timer for measurements\n",
    "    1. use the timer to measure execution times of both the HW and Numpy FFT\n",
    "1. collect the metrics for 100 runs of both Numpy and HW FFT and for each length from: 64 - 4096 in steps of powers of 2\n",
    "1. compare HW vs Numpy FFT execution times\n",
    "1. for the 4096 length hardware FFT, compare the fast DMA method vs. the Numpy performance in units of Complex Mega Samples per Second (samples/time)"
   ]
  },
  {
   "cell_type": "code",
   "execution_count": 15,
   "metadata": {},
   "outputs": [
    {
     "name": "stdout",
     "output_type": "stream",
     "text": [
      "Times are in mS\n",
      "[[64, 0.49649459950350505], [128, 0.5340803994659199], [256, 0.606436949393563], [512, 0.7716810492283187], [1024, 1.0806953489193043], [2048, 1.8835862481164138], [4096, 3.3961635366038365]]\n",
      "[[64, 0.6896966293103033], [128, 0.6904487793095515], [256, 0.6890774793109223], [512, 0.6918622193081376], [1024, 0.6941052993058949], [2048, 0.7290360692709639], [4096, 0.747515929252484]]\n",
      "Acceleration factor:\n",
      "[[64, 0.7198738958605607], [128, 0.7735264591241657], [256, 0.8800707723027026], [512, 1.115368100313383], [1024, 1.5569616742589334], [2048, 2.5836667450487054], [4096, 4.5432657736136814]]\n"
     ]
    }
   ],
   "source": [
    "sw_fft_times = []\n",
    "hw_fft_times = []\n",
    "tmr.start_tmr()\n",
    "for i in range(6,max_fft_N+1):\n",
    "    hwt = swt = 0\n",
    "    size = 2 ** i\n",
    "    fft.resize_bufs(size, dtype=np.complex64)\n",
    "    din = np.empty(shape=(size,), dtype=np.complex64)\n",
    "    fft.txbuf.imag[0:size] = np.random.rand(size,)\n",
    "    fft.txbuf.real[0:size] = np.random.rand(size,)\n",
    "    fft_cfg.send_tx_pkt(create_config_tdata(i, 1))\n",
    "    for n in range(0,100):\n",
    "        start = tmr.read_count()\n",
    "        dout_sw = np.fft.fftn(fft.txbuf)\n",
    "        end = tmr.read_count()\n",
    "        swt += tmr.time_it(start,end)\n",
    "        start = tmr.read_count()\n",
    "        fft.send_dma()\n",
    "        fft.rcv_dma()\n",
    "        end = tmr.read_count()\n",
    "        hwt += tmr.time_it(start,end)\n",
    "    sw_fft_times.append([size, 1000*swt/(n+1)])\n",
    "    hw_fft_times.append([size, 1000*hwt/(n+1)])\n",
    "print('Times are in mS')\n",
    "print(sw_fft_times)\n",
    "print(hw_fft_times)\n",
    "print('Acceleration factor:')\n",
    "a = []\n",
    "for i in range(0,len(hw_fft_times)):\n",
    "    a.append([sw_fft_times[i][0], sw_fft_times[i][1]/hw_fft_times[i][1]])\n",
    "print(a)\n",
    "fft.txbuf.close()\n",
    "fft.rxbuf.close()"
   ]
  },
  {
   "cell_type": "code",
   "execution_count": 16,
   "metadata": {},
   "outputs": [
    {
     "data": {
      "image/png": "[encoded data removed]",
      "text/plain": [
       "<matplotlib.figure.Figure at 0xae0d77d0>"
      ]
     },
     "metadata": {},
     "output_type": "display_data"
    }
   ],
   "source": [
    "%matplotlib inline\n",
    "import matplotlib.pyplot as plt\n",
    "f, ax = plt.subplots()\n",
    "ax.plot([i[0] for i in sw_fft_times], [i[0]/(i[1] * .001) / 1e6 for i in sw_fft_times], 'r-o', label='numpy FFT')\n",
    "ax.plot([i[0] for i in hw_fft_times], [i[0]/(i[1] * .001) / 1e6 for i in hw_fft_times], 'b-o', label='Python with FPGA FFT')\n",
    "ax.set_xlabel('Complex samples length')\n",
    "ax.set_ylabel('Complex Mega-samples / per second')\n",
    "ax.legend()\n",
    "ax.set_title('Python with Xilinx PYNQ FPGA FFT Performance');"
   ]
  },
  {
   "cell_type": "code",
   "execution_count": 17,
   "metadata": {},
   "outputs": [
    {
     "name": "stdout",
     "output_type": "stream",
     "text": [
      "Complex Mega Samples/sec: 5.479481894246723\n"
     ]
    }
   ],
   "source": [
    "print('Complex Mega Samples/sec: ' + str(2**max_fft_N/(hw_fft_times[i][1] * .001) / 1e6))"
   ]
  },
  {
   "cell_type": "code",
   "execution_count": 18,
   "metadata": {},
   "outputs": [
    {
     "name": "stdout",
     "output_type": "stream",
     "text": [
      "Complex Mega Samples/sec: 1.2060667738326876\n"
     ]
    }
   ],
   "source": [
    "print('Complex Mega Samples/sec: ' + str(2**max_fft_N/(sw_fft_times[i][1] * .001) / 1e6))"
   ]
  }
 ],
 "metadata": {
  "kernelspec": {
   "display_name": "Python 3 (ipykernel)",
   "language": "python",
   "name": "python3"
  },
  "language_info": {
   "codemirror_mode": {
    "name": "ipython",
    "version": 3
   },
   "file_extension": ".py",
   "mimetype": "text/x-python",
   "name": "python",
   "nbconvert_exporter": "python",
   "pygments_lexer": "ipython3",
   "version": "3.10.4"
  }
 },
 "nbformat": 4,
 "nbformat_minor": 4
}
