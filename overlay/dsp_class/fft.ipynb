{
 "cells": [
  {
   "cell_type": "markdown",
   "metadata": {},
   "source": [
    "# **<p style=\"color:red;\">PYNQ FFT Exercise**"
   ]
  },
  {
   "cell_type": "markdown",
   "metadata": {},
   "source": [
    "![start](../images/prologue.png)"
   ]
  },
  {
   "cell_type": "markdown",
   "metadata": {},
   "source": [
    "---"
   ]
  },
  {
   "cell_type": "markdown",
   "metadata": {},
   "source": [
    "# *How to build a hardware FFT accelerator*"
   ]
  },
  {
   "cell_type": "markdown",
   "metadata": {},
   "source": [
    "### Execute all of the following cells, fill in empty cells if instructed."
   ]
  },
  {
   "cell_type": "markdown",
   "metadata": {},
   "source": [
    "##  Determine what you would like to compute"
   ]
  },
  {
   "cell_type": "markdown",
   "metadata": {},
   "source": [
    "In this case it has been determined we would like as fast as possible float precision FFT computation up to length 32768 "
   ]
  },
  {
   "cell_type": "markdown",
   "metadata": {},
   "source": [
    "## Benchmark the Python software"
   ]
  },
  {
   "cell_type": "markdown",
   "metadata": {},
   "source": [
    "Import libraries and modules:"
   ]
  },
  {
   "cell_type": "code",
   "execution_count": 1,
   "metadata": {},
   "outputs": [],
   "source": [
    "import numpy as np\n",
    "import random\n",
    "from pynq import Overlay\n",
    "import axitimer\n",
    "max_fft_N = 12 # Logic and DMA max for simple mode on ARM32 is 4096 complex 32-bit elements"
   ]
  },
  {
   "cell_type": "markdown",
   "metadata": {},
   "source": [
    "Load the FFT Overlay and allow axitimer to bind to it:"
   ]
  },
  {
   "cell_type": "code",
   "execution_count": 2,
   "metadata": {},
   "outputs": [
    {
     "data": {
      "application/javascript": [
       "\n",
       "try {\n",
       "require(['notebook/js/codecell'], function(codecell) {\n",
       "  codecell.CodeCell.options_default.highlight_modes[\n",
       "      'magic_text/x-csrc'] = {'reg':[/^%%microblaze/]};\n",
       "  Jupyter.notebook.events.one('kernel_ready.Kernel', function(){\n",
       "      Jupyter.notebook.get_cells().map(function(cell){\n",
       "          if (cell.cell_type == 'code'){ cell.auto_highlight(); } }) ;\n",
       "  });\n",
       "});\n",
       "} catch (e) {};\n"
      ]
     },
     "metadata": {},
     "output_type": "display_data"
    },
    {
     "data": {
      "application/javascript": [
       "\n",
       "try {\n",
       "require(['notebook/js/codecell'], function(codecell) {\n",
       "  codecell.CodeCell.options_default.highlight_modes[\n",
       "      'magic_text/x-csrc'] = {'reg':[/^%%pybind11/]};\n",
       "  Jupyter.notebook.events.one('kernel_ready.Kernel', function(){\n",
       "      Jupyter.notebook.get_cells().map(function(cell){\n",
       "          if (cell.cell_type == 'code'){ cell.auto_highlight(); } }) ;\n",
       "  });\n",
       "});\n",
       "} catch (e) {};\n"
      ]
     },
     "metadata": {},
     "output_type": "display_data"
    }
   ],
   "source": [
    "ol = Overlay('/home/xilinx/jupyter_notebooks/professional_pynq/dsp_class/fft.bit')"
   ]
  },
  {
   "cell_type": "code",
   "execution_count": 3,
   "metadata": {},
   "outputs": [],
   "source": [
    "ol?"
   ]
  },
  {
   "cell_type": "markdown",
   "metadata": {},
   "source": [
    "Use Numpy 'complex64' type arrays and establish some test bench data to use when comparing results and performance."
   ]
  },
  {
   "cell_type": "code",
   "execution_count": 4,
   "metadata": {},
   "outputs": [
    {
     "name": "stdout",
     "output_type": "stream",
     "text": [
      "[size, Time in mS]\n",
      "[[64, 0.08094232942329421], [128, 0.08678866788667884], [256, 0.09567923679236788], [512, 0.11658432584325842], [1024, 0.1621756217562175], [2048, 0.28429216292162923], [4096, 0.5966666866668667]]\n"
     ]
    }
   ],
   "source": [
    "tmr = ol.axi_timer_0\n",
    "tmr.start_tmr()\n",
    "sw_fft_times = []\n",
    "for i in range(6,max_fft_N+1):\n",
    "    swt = 0\n",
    "    size = 2 ** i\n",
    "    din = np.empty(shape=(size,), dtype='complex64')\n",
    "    din.imag[0:size] = np.random.rand(size,)\n",
    "    din.real[0:size] = np.random.rand(size,)\n",
    "    din[20] = 1.0;\n",
    "    for n in range(0,100):\n",
    "        start = tmr.read_count()\n",
    "        dout_sw = np.fft.fftn(din)\n",
    "        end = tmr.read_count()\n",
    "        swt += tmr.time_it(start,end)\n",
    "    sw_fft_times.append([size, 1000*swt/(n+1)])\n",
    "print('[size, Time in mS]')\n",
    "print(sw_fft_times)"
   ]
  },
  {
   "cell_type": "markdown",
   "metadata": {},
   "source": [
    "## Create some Python to help with bitpacking the hardware FFT control words"
   ]
  },
  {
   "cell_type": "code",
   "execution_count": 5,
   "metadata": {},
   "outputs": [],
   "source": [
    "def bits_to_bytes(bit_str, base=2, byteorder='big') :\n",
    "    nbytes = int(len(bit_str) * .125 + .9) if base == 2 else int(len(bit_str) * .5 + .9) if base == 16 else 0  \n",
    "    return int(bit_str, base=base).to_bytes(nbytes, byteorder=byteorder)\n",
    "\n",
    "def bytes_to_uint32s(byte_s) :\n",
    "    assert type(byte_s) == bytes, RuntimeError\n",
    "    return [int.from_bytes(byte_s[i:i+4], byteorder='big') for i in range(0,len(byte_s),4)]\n",
    "\n",
    "def create_config_tdata(N, fwd_inv=True):\n",
    "    assert N > 2 and N < 13, RuntimeError\n",
    "    N = int(N)\n",
    "    NFFT = N.to_bytes(1, byteorder='big')            # Must be padded to byte\n",
    "    CP_LEN = ''                                      # padded but unused for this FFT config\n",
    "    FWD_INV = '0b1' if fwd_inv == True else '0b0'    # No padding\n",
    "    SCALE_SCH = ''                                   # padded but unused for this FFT config\n",
    "    return bytes_to_uint32s(bits_to_bytes(FWD_INV) + NFFT) # Final result needs padded to 8 bits worth and converted into 32-bit words for AXI"
   ]
  },
  {
   "cell_type": "markdown",
   "metadata": {},
   "source": [
    "## Configure the hardware FFT"
   ]
  },
  {
   "cell_type": "code",
   "execution_count": 6,
   "metadata": {},
   "outputs": [],
   "source": [
    "# The constraints say it should work up to about 150MHz\n",
    "from pynq import Clocks"
   ]
  },
  {
   "cell_type": "code",
   "execution_count": 8,
   "metadata": {},
   "outputs": [],
   "source": [
    "from axififo import FifoStreamDriver\n",
    "ol = Overlay('/home/xilinx/jupyter_notebooks/professional_pynq/dsp_class/fft.bit', download=False)\n",
    "cfg_data = create_config_tdata(max_fft_N, True)\n",
    "fft_cfg = ol.axi_fifo_mm_s_0\n",
    "fft_cfg.send_tx_pkt(cfg_data)"
   ]
  },
  {
   "cell_type": "markdown",
   "metadata": {},
   "source": [
    "##  Send and receive data to the hardware FFT using DMA"
   ]
  },
  {
   "cell_type": "markdown",
   "metadata": {},
   "source": [
    "\n",
    "The FFT has an AXI streaming interface connected to a dual channel DMA IP Block (see diagram above).  The FFT block consumes a length setting worth of 'complex64'\n",
    "1. import axidma.py to use the module's 'SimpleDmaDriver' class to write and read data to the hardware FFT accelerator\n",
    "1. reload the Overlay to bind 'SimpleDmaDriver'\n",
    "1. optionally create alias for the Overlay's 'SimpleDmaDriver'\n",
    "1. establish proper SimpleDmaDriver.txbuf size and data type by using SimpleDmaDriver.resize_bufs(4096, data_type='complex64')\n",
    "1. copy the data into the SimpleDmaDriver.txbuf[0:size] member, you could use 'din' from prior cells or create new values directly into txbuf\n",
    "1. send data with SimpleDmaDriver.send_dma()\n",
    "1. receive data with SimpleDmaDriver.rcv_dma()\n",
    "1. the data from the FFT output will be received into SimpleDmaDriver.rxbuf\n",
    "1. display the values of rxbuf\n",
    "1. compare the execution timing results with Numpy's FFT (use the same input data for Numpy as you input to the hardware FFT) "
   ]
  },
  {
   "cell_type": "code",
   "execution_count": 9,
   "metadata": {},
   "outputs": [
    {
     "data": {
      "text/plain": [
       "PynqBuffer([2060.9058   +2.0091859e+03j,   17.833496 -7.6325836e+00j,\n",
       "             -45.187958 -1.3804245e+01j, ...,  -10.380432 -2.6077286e+01j,\n",
       "              -7.6701508+5.9860229e-01j,   11.799591 +5.4680435e+01j],\n",
       "           dtype=complex64)"
      ]
     },
     "execution_count": 9,
     "metadata": {},
     "output_type": "execute_result"
    }
   ],
   "source": [
    "import axidma\n",
    "ol = Overlay('/home/xilinx/jupyter_notebooks/professional_pynq/dsp_class/fft.bit', download=False)\n",
    "fft = ol.axi_dma_0\n",
    "fft.resize_bufs(shape=[size,], dtype='complex64')\n",
    "fft.txbuf[0:size] = din\n",
    "fft.send_dma()\n",
    "fft.rcv_dma()\n",
    "fft.rxbuf"
   ]
  },
  {
   "cell_type": "code",
   "execution_count": 10,
   "metadata": {},
   "outputs": [
    {
     "data": {
      "text/plain": [
       "array([2060.90585074+2.00918597e+03j,   17.83354991-7.63254124e+00j,\n",
       "        -45.18789863-1.38042133e+01j, ...,  -10.38040273-2.60772412e+01j,\n",
       "         -7.67012494+5.98658556e-01j,   11.79961908+5.46804894e+01j])"
      ]
     },
     "execution_count": 10,
     "metadata": {},
     "output_type": "execute_result"
    }
   ],
   "source": [
    "np.fft.fftn(din)"
   ]
  },
  {
   "cell_type": "code",
   "execution_count": 11,
   "metadata": {},
   "outputs": [
    {
     "name": "stdout",
     "output_type": "stream",
     "text": [
      "mean squared error: 1.6433654613559282e-10\n"
     ]
    },
    {
     "data": {
      "image/png": "[encoded data removed]",
      "text/plain": [
       "<Figure size 432x288 with 1 Axes>"
      ]
     },
     "metadata": {
      "needs_background": "light"
     },
     "output_type": "display_data"
    }
   ],
   "source": [
    "%matplotlib inline\n",
    "import matplotlib.pyplot as plt\n",
    "hw_fft_data = np.abs(np.array(fft.rxbuf))\n",
    "sw_fft_data = np.abs(np.array(np.fft.fftn(din)))\n",
    "err_squared = (hw_fft_data-sw_fft_data)**2\n",
    "f, ax = plt.subplots()\n",
    "ax.plot(err_squared)\n",
    "ax.set_xlabel('Samples')\n",
    "ax.set_ylabel('MSE');\n",
    "print('mean squared error: ' + str(err_squared.mean()))"
   ]
  },
  {
   "cell_type": "markdown",
   "metadata": {},
   "source": [
    "### Do the results match exactly or are they just close?"
   ]
  },
  {
   "cell_type": "raw",
   "metadata": {},
   "source": [
    "Ans: They are close, software internal precision is different vs hardware, different algorithms as well.  Which one is right?  Both are off a little would need a golden reference to know."
   ]
  },
  {
   "cell_type": "markdown",
   "metadata": {},
   "source": [
    "## Benchmarking: copy DMA driver FFT vs. Numpy FFT"
   ]
  },
  {
   "cell_type": "markdown",
   "metadata": {},
   "source": [
    "The custom DMA driver in axidma.py has 2 methods to read and write data with DMA. The 1st method 'send_cpy()' and 'rcv_cpy()' is convenient, just pass in a list of data and the method handles all the details including the allocate type buffers.  Along the way it makes a copy of the data however.  The 2nd method 'send_dma()' and 'rcv_dma()' requires pre-sizing built in 'rxbuf' and 'txbuf' buffers and loading the data into those buffers. This eliminates a copy each time and type allocate buffer allocation and free.\n",
    "\n",
    "1. use the example from the beginning but enhance it to use both the hardware and software versions of the FFT\n",
    "1. use the SimpleDmaDriver.send_cpy() and .rcv_cpy() methods\n",
    "1. enhance it to use the AXI hardware timer for measurement\n",
    "    1. use the timer to measure execution times of both the HW and SW FFT\n",
    "1. collect the metrics for 100 runs of both SW and HW and for each length from: 64 - 4096 in steps of powers of 2\n",
    "1. compare the execution times between the convenient copy DMA methods here vs the Numpy FFT"
   ]
  },
  {
   "cell_type": "code",
   "execution_count": 12,
   "metadata": {},
   "outputs": [
    {
     "name": "stdout",
     "output_type": "stream",
     "text": [
      "Times are in mS\n",
      "[[64, 0.10765651656516562], [128, 0.10972225722257212], [256, 0.11950503505035051], [512, 0.14126533265332653], [1024, 0.2342659426594266], [2048, 0.37590147901479026], [4096, 0.9127923679236791]]\n",
      "[[64, 1.4884362043620443], [128, 1.443792917929179], [256, 1.4614125341253414], [512, 1.4975480954809552], [1024, 1.9828582685826854], [2048, 2.13520383203832], [4096, 2.661112931129312]]\n",
      "Acceleration factor:\n",
      "[[64, 0.07232860652654446], [128, 0.07599584113485326], [256, 0.08177364861720891], [512, 0.09433108230688077], [1024, 0.11814558124059772], [2048, 0.176049458779748], [4096, 0.3430115111786376]]\n"
     ]
    }
   ],
   "source": [
    "sw_fft_times = []\n",
    "hw_fft_times = []\n",
    "tmr.start_tmr()\n",
    "for i in range(6,max_fft_N+1):\n",
    "    hwt = swt = 0\n",
    "    size = 2 ** i\n",
    "    din = np.empty(shape=(size,), dtype=np.complex64)\n",
    "    din.imag[0:size] = np.random.rand(size,)\n",
    "    din.real[0:size] = np.random.rand(size,)\n",
    "    fft_cfg.send_tx_pkt(create_config_tdata(i, 1))\n",
    "    for n in range(0,100):\n",
    "        start = tmr.read_count()\n",
    "        dout_sw = np.fft.fftn(din)\n",
    "        end = tmr.read_count()\n",
    "        swt += tmr.time_it(start,end)\n",
    "        start = tmr.read_count()\n",
    "        fft.send_cpy(din)\n",
    "        dout = fft.rcv_cpy(size, np.complex64)\n",
    "        end = tmr.read_count()\n",
    "        hwt += tmr.time_it(start,end)\n",
    "    sw_fft_times.append([size, 1000*swt/(n+1)])\n",
    "    hw_fft_times.append([size, 1000*hwt/(n+1)])\n",
    "print('Times are in mS')\n",
    "print(sw_fft_times)\n",
    "print(hw_fft_times)\n",
    "print('Acceleration factor:')\n",
    "a = []\n",
    "for i in range(0,len(hw_fft_times)):\n",
    "    a.append([sw_fft_times[i][0], sw_fft_times[i][1]/hw_fft_times[i][1]])\n",
    "print(a)"
   ]
  },
  {
   "cell_type": "code",
   "execution_count": 13,
   "metadata": {},
   "outputs": [
    {
     "data": {
      "image/png": "[encoded data removed]",
      "text/plain": [
       "<Figure size 432x288 with 1 Axes>"
      ]
     },
     "metadata": {
      "needs_background": "light"
     },
     "output_type": "display_data"
    }
   ],
   "source": [
    "%matplotlib inline\n",
    "import matplotlib.pyplot as plt\n",
    "f, ax = plt.subplots()\n",
    "ax.plot([i[0] for i in sw_fft_times], [i[0]/(i[1] * .001) / 1e6 for i in sw_fft_times], 'r-o', label='numpy FFT')\n",
    "ax.plot([i[0] for i in hw_fft_times], [i[0]/(i[1] * .001) / 1e6 for i in hw_fft_times], 'b-o', label='Python with FPGA FFT')\n",
    "ax.set_xlabel('Complex samples length')\n",
    "ax.set_ylabel('Complex Mega-samples / per second')\n",
    "ax.legend()\n",
    "ax.set_title('Python with Xilinx PYNQ FPGA FFT Performance');"
   ]
  },
  {
   "cell_type": "markdown",
   "metadata": {},
   "source": [
    "## Benchmark the system: pre-buf DMA FFT vs Numpy FFT"
   ]
  },
  {
   "cell_type": "markdown",
   "metadata": {},
   "source": [
    "\n",
    "1. use the example from the beginning but enhance it to use both the hardware and software versions of the FFT\n",
    "1. this time use the SimpleDmaDriver.send_dma() and .rcv_dma() methods to transfer the data, resize the buffers properly before using those methods\n",
    "1. enhance the program to use the AXI hardware timer for measurements\n",
    "    1. use the timer to measure execution times of both the HW and Numpy FFT\n",
    "1. collect the metrics for 100 runs of both Numpy and HW FFT and for each length from: 64 - 4096 in steps of powers of 2\n",
    "1. compare HW vs Numpy FFT execution times\n",
    "1. for the 4096 length hardware FFT, compare the fast DMA method vs. the Numpy performance in units of Complex Mega Samples per Second (samples/time)"
   ]
  },
  {
   "cell_type": "code",
   "execution_count": 14,
   "metadata": {},
   "outputs": [
    {
     "name": "stdout",
     "output_type": "stream",
     "text": [
      "Times are in mS\n",
      "[[64, 0.1028043080430804], [128, 0.10903249032490331], [256, 0.13661016610166105], [512, 0.17830382303823036], [1024, 0.27713705137051364], [2048, 0.49851162511625113], [4096, 0.9950112701127007]]\n",
      "[[64, 0.3773799337993378], [128, 0.37307237072370725], [256, 0.3716668766687665], [512, 0.36979909799098], [1024, 0.36939253392533933], [2048, 0.3747064670646705], [4096, 0.37455322553225523]]\n",
      "Acceleration factor:\n",
      "[[64, 0.2724159363961942], [128, 0.292255602079017], [256, 0.3675607773447336], [512, 0.4821640290820274], [1024, 0.750250819705327], [2048, 1.3304057146956398], [4096, 2.6565283710979917]]\n"
     ]
    }
   ],
   "source": [
    "sw_fft_times = []\n",
    "hw_fft_times = []\n",
    "tmr.start_tmr()\n",
    "for i in range(6,max_fft_N+1):\n",
    "    hwt = swt = 0\n",
    "    size = 2 ** i\n",
    "    fft.resize_bufs(size, dtype=np.complex64)\n",
    "    din = np.empty(shape=(size,), dtype=np.complex64)\n",
    "    fft.txbuf.imag[0:size] = np.random.rand(size,)\n",
    "    fft.txbuf.real[0:size] = np.random.rand(size,)\n",
    "    fft_cfg.send_tx_pkt(create_config_tdata(i, 1))\n",
    "    for n in range(0,100):\n",
    "        start = tmr.read_count()\n",
    "        dout_sw = np.fft.fftn(fft.txbuf)\n",
    "        end = tmr.read_count()\n",
    "        swt += tmr.time_it(start,end)\n",
    "        start = tmr.read_count()\n",
    "        fft.send_dma()\n",
    "        fft.rcv_dma()\n",
    "        end = tmr.read_count()\n",
    "        hwt += tmr.time_it(start,end)\n",
    "    sw_fft_times.append([size, 1000*swt/(n+1)])\n",
    "    hw_fft_times.append([size, 1000*hwt/(n+1)])\n",
    "print('Times are in mS')\n",
    "print(sw_fft_times)\n",
    "print(hw_fft_times)\n",
    "print('Acceleration factor:')\n",
    "a = []\n",
    "for i in range(0,len(hw_fft_times)):\n",
    "    a.append([sw_fft_times[i][0], sw_fft_times[i][1]/hw_fft_times[i][1]])\n",
    "print(a)\n",
    "fft.txbuf.close()\n",
    "fft.rxbuf.close()"
   ]
  },
  {
   "cell_type": "code",
   "execution_count": 15,
   "metadata": {},
   "outputs": [
    {
     "data": {
      "image/png": "[encoded data removed]",
      "text/plain": [
       "<Figure size 432x288 with 1 Axes>"
      ]
     },
     "metadata": {
      "needs_background": "light"
     },
     "output_type": "display_data"
    }
   ],
   "source": [
    "%matplotlib inline\n",
    "import matplotlib.pyplot as plt\n",
    "f, ax = plt.subplots()\n",
    "ax.plot([i[0] for i in sw_fft_times], [i[0]/(i[1] * .001) / 1e6 for i in sw_fft_times], 'r-o', label='numpy FFT')\n",
    "ax.plot([i[0] for i in hw_fft_times], [i[0]/(i[1] * .001) / 1e6 for i in hw_fft_times], 'b-o', label='Python with FPGA FFT')\n",
    "ax.set_xlabel('Complex samples length')\n",
    "ax.set_ylabel('Complex Mega-samples / per second')\n",
    "ax.legend()\n",
    "ax.set_title('Python with Xilinx PYNQ FPGA FFT Performance');"
   ]
  },
  {
   "cell_type": "code",
   "execution_count": 16,
   "metadata": {},
   "outputs": [
    {
     "name": "stdout",
     "output_type": "stream",
     "text": [
      "Complex Mega Samples/sec: 10.935695438690773\n"
     ]
    }
   ],
   "source": [
    "print('Complex Mega Samples/sec: ' + str(2**max_fft_N/(hw_fft_times[i][1] * .001) / 1e6))"
   ]
  },
  {
   "cell_type": "code",
   "execution_count": 17,
   "metadata": {},
   "outputs": [
    {
     "name": "stdout",
     "output_type": "stream",
     "text": [
      "Complex Mega Samples/sec: 4.1165362876101526\n"
     ]
    }
   ],
   "source": [
    "print('Complex Mega Samples/sec: ' + str(2**max_fft_N/(sw_fft_times[i][1] * .001) / 1e6))"
   ]
  },
  {
   "cell_type": "code",
   "execution_count": null,
   "metadata": {},
   "outputs": [],
   "source": []
  }
 ],
 "metadata": {
  "kernelspec": {
   "display_name": "Python 3 (ipykernel)",
   "language": "python",
   "name": "python3"
  },
  "language_info": {
   "codemirror_mode": {
    "name": "ipython",
    "version": 3
   },
   "file_extension": ".py",
   "mimetype": "text/x-python",
   "name": "python",
   "nbconvert_exporter": "python",
   "pygments_lexer": "ipython3",
   "version": "3.10.4"
  }
 },
 "nbformat": 4,
 "nbformat_minor": 4
}
